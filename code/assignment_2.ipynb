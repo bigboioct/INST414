{
 "cells": [
  {
   "cell_type": "code",
   "execution_count": 40,
   "metadata": {},
   "outputs": [],
   "source": [
    "import requests \n",
    "from bs4 import BeautifulSoup\n",
    "import networkx as nx\n",
    "import matplotlib.pyplot as plt"
   ]
  },
  {
   "cell_type": "code",
   "execution_count": 46,
   "metadata": {},
   "outputs": [
    {
     "name": "stdout",
     "output_type": "stream",
     "text": [
      "['', 'The global landscape of AI ethics guidelines', '[BOOK][B] AI ethics']\n"
     ]
    }
   ],
   "source": [
    "# Search Google Scholar for \"AI ethics\" papers \n",
    "url = \"https://scholar.google.com/scholar?q=AI+ethics&hl=en&as_sdt=0,5\"\n",
    "results = requests.get(url)\n",
    "\n",
    "# Parse HTML content \n",
    "soup = BeautifulSoup(results.text, \"html.parser\")\n",
    "\n",
    "# Find all citations \n",
    "citations = []\n",
    "for result in soup.find_all(\"div\", class_=\"gs_ri\"):\n",
    "    title = result.find(\"h3\").text\n",
    "    cited_by = result.find(\"div\", class_=\"gs_fl\").find_all(\"a\")[-1].text\n",
    "    citations.append({\"title\": title, \"cited_by\": cited_by})\n",
    "\n",
    "# Build networkx graph from citations\n",
    "G = nx.Graph()\n",
    "for c in citations:\n",
    "    G.add_node(c[\"title\"])\n",
    "    G.add_edge(c[\"cited_by\"], c[\"title\"]) \n",
    "\n",
    "# Calculate in-degree centrality\n",
    "centrality = nx.betweenness_centrality(G)\n",
    "\n",
    "# Print top 3 cited papers\n",
    "print(sorted(centrality, key=centrality.get, reverse=True)[:3])\n",
    "\n",
    "# nx.write_gexf(G, \"graph.gexf\")"
   ]
  },
  {
   "cell_type": "code",
   "execution_count": null,
   "metadata": {},
   "outputs": [],
   "source": []
  },
  {
   "cell_type": "code",
   "execution_count": null,
   "metadata": {},
   "outputs": [],
   "source": []
  }
 ],
 "metadata": {
  "kernelspec": {
   "display_name": "Python 3",
   "language": "python",
   "name": "python3"
  },
  "language_info": {
   "codemirror_mode": {
    "name": "ipython",
    "version": 3
   },
   "file_extension": ".py",
   "mimetype": "text/x-python",
   "name": "python",
   "nbconvert_exporter": "python",
   "pygments_lexer": "ipython3",
   "version": "3.12.0"
  }
 },
 "nbformat": 4,
 "nbformat_minor": 2
}
