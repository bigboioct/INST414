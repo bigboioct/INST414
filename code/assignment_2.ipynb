{
 "cells": [
  {
   "cell_type": "code",
   "execution_count": 9,
   "metadata": {},
   "outputs": [],
   "source": [
    "#importing libraries\n",
    "import time\n",
    "import pandas as pd\n",
    "import plotly.express as px\n",
    "import plotly.graph_objects as go\n",
    "from selenium import webdriver\n",
    "from selenium.webdriver.common.by import By\n",
    "import networkx as nx"
   ]
  },
  {
   "cell_type": "code",
   "execution_count": 32,
   "metadata": {},
   "outputs": [
    {
     "ename": "NoSuchElementException",
     "evalue": "Message: no such element: Unable to locate element: {\"method\":\"css selector\",\"selector\":\"a\"}\n  (Session info: chrome=119.0.6045.106); For documentation on this error, please visit: https://www.selenium.dev/documentation/webdriver/troubleshooting/errors#no-such-element-exception\nStacktrace:\n\tGetHandleVerifier [0x00007FF6D41582B2+55298]\n\t(No symbol) [0x00007FF6D40C5E02]\n\t(No symbol) [0x00007FF6D3F805AB]\n\t(No symbol) [0x00007FF6D3FC175C]\n\t(No symbol) [0x00007FF6D3FC18DC]\n\t(No symbol) [0x00007FF6D3FFCBC7]\n\t(No symbol) [0x00007FF6D3FE20EF]\n\t(No symbol) [0x00007FF6D3FFAAA4]\n\t(No symbol) [0x00007FF6D3FE1E83]\n\t(No symbol) [0x00007FF6D3FB670A]\n\t(No symbol) [0x00007FF6D3FB7964]\n\tGetHandleVerifier [0x00007FF6D44D0AAB+3694587]\n\tGetHandleVerifier [0x00007FF6D452728E+4048862]\n\tGetHandleVerifier [0x00007FF6D451F173+4015811]\n\tGetHandleVerifier [0x00007FF6D41F47D6+695590]\n\t(No symbol) [0x00007FF6D40D0CE8]\n\t(No symbol) [0x00007FF6D40CCF34]\n\t(No symbol) [0x00007FF6D40CD062]\n\t(No symbol) [0x00007FF6D40BD3A3]\n\tBaseThreadInitThunk [0x00007FFC89ED257D+29]\n\tRtlUserThreadStart [0x00007FFC8B88AA78+40]\n",
     "output_type": "error",
     "traceback": [
      "\u001b[1;31m---------------------------------------------------------------------------\u001b[0m",
      "\u001b[1;31mNoSuchElementException\u001b[0m                    Traceback (most recent call last)",
      "\u001b[1;32mc:\\Users\\octav\\Documents\\GitHub\\INST414\\code\\assignment_2.ipynb Cell 2\u001b[0m line \u001b[0;36m1\n\u001b[0;32m     <a href='vscode-notebook-cell:/c%3A/Users/octav/Documents/GitHub/INST414/code/assignment_2.ipynb#W4sZmlsZQ%3D%3D?line=16'>17</a>\u001b[0m \u001b[39mfor\u001b[39;00m url \u001b[39min\u001b[39;00m url_list:\n\u001b[0;32m     <a href='vscode-notebook-cell:/c%3A/Users/octav/Documents/GitHub/INST414/code/assignment_2.ipynb#W4sZmlsZQ%3D%3D?line=17'>18</a>\u001b[0m     driver\u001b[39m.\u001b[39mget(url)\n\u001b[1;32m---> <a href='vscode-notebook-cell:/c%3A/Users/octav/Documents/GitHub/INST414/code/assignment_2.ipynb#W4sZmlsZQ%3D%3D?line=18'>19</a>\u001b[0m     article_text \u001b[39m=\u001b[39m driver\u001b[39m.\u001b[39;49mfind_element(By\u001b[39m.\u001b[39;49mCSS_SELECTOR, \u001b[39m'\u001b[39;49m\u001b[39ma\u001b[39;49m\u001b[39m'\u001b[39;49m)\u001b[39m.\u001b[39mtext\n\u001b[0;32m     <a href='vscode-notebook-cell:/c%3A/Users/octav/Documents/GitHub/INST414/code/assignment_2.ipynb#W4sZmlsZQ%3D%3D?line=20'>21</a>\u001b[0m     source_links \u001b[39m=\u001b[39m driver\u001b[39m.\u001b[39mfind_elements(By\u001b[39m.\u001b[39mCSS_SELECTOR, \u001b[39m'\u001b[39m\u001b[39ma.source\u001b[39m\u001b[39m'\u001b[39m)\n\u001b[0;32m     <a href='vscode-notebook-cell:/c%3A/Users/octav/Documents/GitHub/INST414/code/assignment_2.ipynb#W4sZmlsZQ%3D%3D?line=21'>22</a>\u001b[0m     \u001b[39mfor\u001b[39;00m source \u001b[39min\u001b[39;00m source_links:\n",
      "File \u001b[1;32m~\\AppData\\Roaming\\Python\\Python312\\site-packages\\selenium\\webdriver\\remote\\webdriver.py:740\u001b[0m, in \u001b[0;36mWebDriver.find_element\u001b[1;34m(self, by, value)\u001b[0m\n\u001b[0;32m    737\u001b[0m     by \u001b[39m=\u001b[39m By\u001b[39m.\u001b[39mCSS_SELECTOR\n\u001b[0;32m    738\u001b[0m     value \u001b[39m=\u001b[39m \u001b[39mf\u001b[39m\u001b[39m'\u001b[39m\u001b[39m[name=\u001b[39m\u001b[39m\"\u001b[39m\u001b[39m{\u001b[39;00mvalue\u001b[39m}\u001b[39;00m\u001b[39m\"\u001b[39m\u001b[39m]\u001b[39m\u001b[39m'\u001b[39m\n\u001b[1;32m--> 740\u001b[0m \u001b[39mreturn\u001b[39;00m \u001b[39mself\u001b[39;49m\u001b[39m.\u001b[39;49mexecute(Command\u001b[39m.\u001b[39;49mFIND_ELEMENT, {\u001b[39m\"\u001b[39;49m\u001b[39musing\u001b[39;49m\u001b[39m\"\u001b[39;49m: by, \u001b[39m\"\u001b[39;49m\u001b[39mvalue\u001b[39;49m\u001b[39m\"\u001b[39;49m: value})[\u001b[39m\"\u001b[39m\u001b[39mvalue\u001b[39m\u001b[39m\"\u001b[39m]\n",
      "File \u001b[1;32m~\\AppData\\Roaming\\Python\\Python312\\site-packages\\selenium\\webdriver\\remote\\webdriver.py:346\u001b[0m, in \u001b[0;36mWebDriver.execute\u001b[1;34m(self, driver_command, params)\u001b[0m\n\u001b[0;32m    344\u001b[0m response \u001b[39m=\u001b[39m \u001b[39mself\u001b[39m\u001b[39m.\u001b[39mcommand_executor\u001b[39m.\u001b[39mexecute(driver_command, params)\n\u001b[0;32m    345\u001b[0m \u001b[39mif\u001b[39;00m response:\n\u001b[1;32m--> 346\u001b[0m     \u001b[39mself\u001b[39;49m\u001b[39m.\u001b[39;49merror_handler\u001b[39m.\u001b[39;49mcheck_response(response)\n\u001b[0;32m    347\u001b[0m     response[\u001b[39m\"\u001b[39m\u001b[39mvalue\u001b[39m\u001b[39m\"\u001b[39m] \u001b[39m=\u001b[39m \u001b[39mself\u001b[39m\u001b[39m.\u001b[39m_unwrap_value(response\u001b[39m.\u001b[39mget(\u001b[39m\"\u001b[39m\u001b[39mvalue\u001b[39m\u001b[39m\"\u001b[39m, \u001b[39mNone\u001b[39;00m))\n\u001b[0;32m    348\u001b[0m     \u001b[39mreturn\u001b[39;00m response\n",
      "File \u001b[1;32m~\\AppData\\Roaming\\Python\\Python312\\site-packages\\selenium\\webdriver\\remote\\errorhandler.py:229\u001b[0m, in \u001b[0;36mErrorHandler.check_response\u001b[1;34m(self, response)\u001b[0m\n\u001b[0;32m    227\u001b[0m         alert_text \u001b[39m=\u001b[39m value[\u001b[39m\"\u001b[39m\u001b[39malert\u001b[39m\u001b[39m\"\u001b[39m]\u001b[39m.\u001b[39mget(\u001b[39m\"\u001b[39m\u001b[39mtext\u001b[39m\u001b[39m\"\u001b[39m)\n\u001b[0;32m    228\u001b[0m     \u001b[39mraise\u001b[39;00m exception_class(message, screen, stacktrace, alert_text)  \u001b[39m# type: ignore[call-arg]  # mypy is not smart enough here\u001b[39;00m\n\u001b[1;32m--> 229\u001b[0m \u001b[39mraise\u001b[39;00m exception_class(message, screen, stacktrace)\n",
      "\u001b[1;31mNoSuchElementException\u001b[0m: Message: no such element: Unable to locate element: {\"method\":\"css selector\",\"selector\":\"a\"}\n  (Session info: chrome=119.0.6045.106); For documentation on this error, please visit: https://www.selenium.dev/documentation/webdriver/troubleshooting/errors#no-such-element-exception\nStacktrace:\n\tGetHandleVerifier [0x00007FF6D41582B2+55298]\n\t(No symbol) [0x00007FF6D40C5E02]\n\t(No symbol) [0x00007FF6D3F805AB]\n\t(No symbol) [0x00007FF6D3FC175C]\n\t(No symbol) [0x00007FF6D3FC18DC]\n\t(No symbol) [0x00007FF6D3FFCBC7]\n\t(No symbol) [0x00007FF6D3FE20EF]\n\t(No symbol) [0x00007FF6D3FFAAA4]\n\t(No symbol) [0x00007FF6D3FE1E83]\n\t(No symbol) [0x00007FF6D3FB670A]\n\t(No symbol) [0x00007FF6D3FB7964]\n\tGetHandleVerifier [0x00007FF6D44D0AAB+3694587]\n\tGetHandleVerifier [0x00007FF6D452728E+4048862]\n\tGetHandleVerifier [0x00007FF6D451F173+4015811]\n\tGetHandleVerifier [0x00007FF6D41F47D6+695590]\n\t(No symbol) [0x00007FF6D40D0CE8]\n\t(No symbol) [0x00007FF6D40CCF34]\n\t(No symbol) [0x00007FF6D40CD062]\n\t(No symbol) [0x00007FF6D40BD3A3]\n\tBaseThreadInitThunk [0x00007FFC89ED257D+29]\n\tRtlUserThreadStart [0x00007FFC8B88AA78+40]\n"
     ]
    }
   ],
   "source": [
    "driver = webdriver.Chrome()\n",
    "\n",
    "\n",
    "driver.get(\"https://www.jpost.com/breaking-news\") \n",
    "\n",
    "time.sleep(5)\n",
    "# Find all links\n",
    "\n",
    "links = driver.find_elements(By.CSS_SELECTOR, 'a')\n",
    "\n",
    "url_list = []\n",
    "for link in links:\n",
    "    url_list.append(link.get_attribute('href'))\n",
    "    \n",
    "G = nx.Graph()\n",
    "\n",
    "for url in url_list:\n",
    "    driver.get(url)\n",
    "    article_text = driver.find_element(By.CSS_SELECTOR, 'a').text\n",
    "    \n",
    "    source_links = driver.find_elements(By.CSS_SELECTOR, 'a.source')\n",
    "    for source in source_links:\n",
    "        source_url = source.get_attribute('href')\n",
    "        G.add_edge(url, source_url)\n",
    "\n",
    "nx.draw(G)\n",
    "print(links)"
   ]
  },
  {
   "cell_type": "code",
   "execution_count": null,
   "metadata": {},
   "outputs": [],
   "source": []
  },
  {
   "cell_type": "code",
   "execution_count": null,
   "metadata": {},
   "outputs": [],
   "source": []
  }
 ],
 "metadata": {
  "kernelspec": {
   "display_name": "Python 3",
   "language": "python",
   "name": "python3"
  },
  "language_info": {
   "codemirror_mode": {
    "name": "ipython",
    "version": 3
   },
   "file_extension": ".py",
   "mimetype": "text/x-python",
   "name": "python",
   "nbconvert_exporter": "python",
   "pygments_lexer": "ipython3",
   "version": "3.12.0"
  }
 },
 "nbformat": 4,
 "nbformat_minor": 2
}
