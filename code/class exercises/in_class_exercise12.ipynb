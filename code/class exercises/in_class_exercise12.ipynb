{
 "cells": [
  {
   "cell_type": "markdown",
   "id": "fc409670",
   "metadata": {},
   "source": [
    "# Determine Movie Genre by Neighboring Movies\n",
    "\n",
    "Using the k-nearest neighbors method, use the top-k most similar movies to a target film to predict the target movie's genre.\n",
    "\n",
    "Use Jaccard similarity based on actors in each movie to rank movies and select the top-k most similar movies."
   ]
  },
  {
   "cell_type": "code",
   "execution_count": 1,
   "id": "47d80463",
   "metadata": {},
   "outputs": [],
   "source": [
    "import json\n",
    "\n",
    "import pandas as pd\n",
    "import numpy as np\n",
    "\n",
    "from scipy.sparse import lil_matrix\n",
    "\n",
    "import matplotlib.pyplot as plt\n"
   ]
  },
  {
   "cell_type": "code",
   "execution_count": 2,
   "id": "09e36e97",
   "metadata": {},
   "outputs": [],
   "source": [
    "actor_name_map = {}\n",
    "movie_actor_map = {}\n",
    "actor_genre_map = {}\n",
    "\n",
    "\n",
    "with open(\"imdb_movies_2000to2022.prolific.json\", \"r\") as in_file:\n",
    "    for line in in_file:\n",
    "        \n",
    "        # Read the movie on this line and parse its json\n",
    "        this_movie = json.loads(line)\n",
    "        \n",
    "        # Skip movies with no ratings\n",
    "        if len(this_movie[\"rating\"]) == 0:\n",
    "            continue\n",
    "                    \n",
    "        # Add all actors to the id->name map\n",
    "        for actor_id,actor_name in this_movie['actors']:\n",
    "            actor_name_map[actor_id] = actor_name\n",
    "            \n",
    "        # For each actor, add this movie's genres to that actor's list\n",
    "        for actor_id,actor_name in this_movie['actors']:\n",
    "            this_actors_genres = actor_genre_map.get(actor_id, {})\n",
    "            \n",
    "            # Increment the count of genres for this actor\n",
    "            for g in this_movie[\"genres\"]:\n",
    "                this_actors_genres[g] = this_actors_genres.get(g, 0) + 1\n",
    "                \n",
    "            # Update the map\n",
    "            actor_genre_map[actor_id] = this_actors_genres\n",
    "            \n",
    "        # Finished with this film\n",
    "        movie_actor_map[this_movie[\"imdb_id\"]] = ({\n",
    "            \"movie\": this_movie[\"title\"],\n",
    "            \"actors\": set([item[0] for item in this_movie['actors']]),\n",
    "            \"genres\": this_movie[\"genres\"],\n",
    "            \"rating\": this_movie[\"rating\"][\"avg\"]\n",
    "        })"
   ]
  },
  {
   "cell_type": "code",
   "execution_count": 3,
   "id": "2ecd8139",
   "metadata": {},
   "outputs": [
    {
     "name": "stdout",
     "output_type": "stream",
     "text": [
      "Known Actors: 29499\n",
      "Known Movies: 18841\n"
     ]
    }
   ],
   "source": [
    "print(\"Known Actors:\", len(actor_name_map))\n",
    "print(\"Known Movies:\", len(movie_actor_map))"
   ]
  },
  {
   "cell_type": "code",
   "execution_count": 4,
   "id": "07d6abab",
   "metadata": {},
   "outputs": [],
   "source": [
    "actor_id_to_index = {actor_id:i for i,actor_id in enumerate(actor_name_map.keys())}\n"
   ]
  },
  {
   "cell_type": "code",
   "execution_count": null,
   "id": "d8bb7a58",
   "metadata": {},
   "outputs": [],
   "source": []
  },
  {
   "cell_type": "code",
   "execution_count": 118,
   "id": "400cc127",
   "metadata": {},
   "outputs": [],
   "source": [
    "# target_movie_id = \"tt0317705\" # The Incredibles\n",
    "# target_movie_id = \"tt0816692\" # Interstellar\n",
    "target_movie_id = \"tt0332280\" # The Notebook"
   ]
  },
  {
   "cell_type": "code",
   "execution_count": 119,
   "id": "bf3351f5",
   "metadata": {},
   "outputs": [],
   "source": [
    "target_movie_object = movie_actor_map[target_movie_id]"
   ]
  },
  {
   "cell_type": "code",
   "execution_count": 120,
   "id": "b6c153ae",
   "metadata": {},
   "outputs": [
    {
     "data": {
      "text/plain": [
       "{'movie': 'The Notebook',\n",
       " 'actors': {'nm0001258', 'nm0001687', 'nm0331516', 'nm1046097'},\n",
       " 'genres': ['Drama', 'Romance'],\n",
       " 'rating': 7.8}"
      ]
     },
     "execution_count": 120,
     "metadata": {},
     "output_type": "execute_result"
    }
   ],
   "source": [
    "target_movie_object"
   ]
  },
  {
   "cell_type": "markdown",
   "id": "83f5df0c",
   "metadata": {},
   "source": [
    "## Find the Most Similar Movies by Jaccard Similarity in Actor"
   ]
  },
  {
   "cell_type": "code",
   "execution_count": 121,
   "id": "7de6b181",
   "metadata": {},
   "outputs": [],
   "source": [
    "movie_similarities = []\n",
    "\n",
    "for this_movie_id,this_movie_obj in movie_actor_map.items():\n",
    "    # Skip the target movie\n",
    "    if this_movie_id == target_movie_id:\n",
    "        continue\n",
    "    target_actors = set(target_movie_object['actors'])\n",
    "    this_actors = set(this_movie_obj['actors'])\n",
    "        \n",
    "    intersection = len(target_actors & this_actors)\n",
    "    union = len(target_actors | this_actors)\n",
    "\n",
    "    jaccard = intersection / union\n",
    "    \n",
    "    # Add this movie and its Jaccard similarity to the list, so we can rank at the end\n",
    "    movie_similarities.append({\n",
    "        \"movie\": this_movie_id,\n",
    "        \"jaccard\": jaccard,\n",
    "    })"
   ]
  },
  {
   "cell_type": "code",
   "execution_count": 122,
   "id": "da0bb805",
   "metadata": {},
   "outputs": [],
   "source": [
    "similarity_df = pd.DataFrame(movie_similarities, columns=[\"movie\", \"jaccard\"])"
   ]
  },
  {
   "cell_type": "code",
   "execution_count": null,
   "id": "1d0beaf2",
   "metadata": {},
   "outputs": [],
   "source": []
  },
  {
   "cell_type": "markdown",
   "id": "36fb3faf",
   "metadata": {},
   "source": [
    "## Use the top-k similar movies to infer genre"
   ]
  },
  {
   "cell_type": "code",
   "execution_count": 123,
   "id": "ba9bf8af",
   "metadata": {},
   "outputs": [],
   "source": [
    "k_nn = 5"
   ]
  },
  {
   "cell_type": "code",
   "execution_count": 124,
   "id": "e830fcfc",
   "metadata": {},
   "outputs": [
    {
     "data": {
      "text/html": [
       "<div>\n",
       "<style scoped>\n",
       "    .dataframe tbody tr th:only-of-type {\n",
       "        vertical-align: middle;\n",
       "    }\n",
       "\n",
       "    .dataframe tbody tr th {\n",
       "        vertical-align: top;\n",
       "    }\n",
       "\n",
       "    .dataframe thead th {\n",
       "        text-align: right;\n",
       "    }\n",
       "</style>\n",
       "<table border=\"1\" class=\"dataframe\">\n",
       "  <thead>\n",
       "    <tr style=\"text-align: right;\">\n",
       "      <th></th>\n",
       "      <th>movie</th>\n",
       "      <th>jaccard</th>\n",
       "    </tr>\n",
       "  </thead>\n",
       "  <tbody>\n",
       "    <tr>\n",
       "      <th>9244</th>\n",
       "      <td>tt1580346</td>\n",
       "      <td>0.250000</td>\n",
       "    </tr>\n",
       "    <tr>\n",
       "      <th>10165</th>\n",
       "      <td>tt1798684</td>\n",
       "      <td>0.142857</td>\n",
       "    </tr>\n",
       "    <tr>\n",
       "      <th>10704</th>\n",
       "      <td>tt1972571</td>\n",
       "      <td>0.142857</td>\n",
       "    </tr>\n",
       "    <tr>\n",
       "      <th>4236</th>\n",
       "      <td>tt0772157</td>\n",
       "      <td>0.142857</td>\n",
       "    </tr>\n",
       "    <tr>\n",
       "      <th>9367</th>\n",
       "      <td>tt1606389</td>\n",
       "      <td>0.142857</td>\n",
       "    </tr>\n",
       "  </tbody>\n",
       "</table>\n",
       "</div>"
      ],
      "text/plain": [
       "           movie   jaccard\n",
       "9244   tt1580346  0.250000\n",
       "10165  tt1798684  0.142857\n",
       "10704  tt1972571  0.142857\n",
       "4236   tt0772157  0.142857\n",
       "9367   tt1606389  0.142857"
      ]
     },
     "execution_count": 124,
     "metadata": {},
     "output_type": "execute_result"
    }
   ],
   "source": [
    "similarity_df.sort_values(by=\"jaccard\", ascending=False).head(k_nn)"
   ]
  },
  {
   "cell_type": "code",
   "execution_count": 125,
   "metadata": {},
   "outputs": [
    {
     "data": {
      "text/html": [
       "<div>\n",
       "<style scoped>\n",
       "    .dataframe tbody tr th:only-of-type {\n",
       "        vertical-align: middle;\n",
       "    }\n",
       "\n",
       "    .dataframe tbody tr th {\n",
       "        vertical-align: top;\n",
       "    }\n",
       "\n",
       "    .dataframe thead th {\n",
       "        text-align: right;\n",
       "    }\n",
       "</style>\n",
       "<table border=\"1\" class=\"dataframe\">\n",
       "  <thead>\n",
       "    <tr style=\"text-align: right;\">\n",
       "      <th></th>\n",
       "      <th>movie</th>\n",
       "      <th>jaccard</th>\n",
       "    </tr>\n",
       "  </thead>\n",
       "  <tbody>\n",
       "    <tr>\n",
       "      <th>9244</th>\n",
       "      <td>tt1580346</td>\n",
       "      <td>0.250000</td>\n",
       "    </tr>\n",
       "    <tr>\n",
       "      <th>10165</th>\n",
       "      <td>tt1798684</td>\n",
       "      <td>0.142857</td>\n",
       "    </tr>\n",
       "    <tr>\n",
       "      <th>10704</th>\n",
       "      <td>tt1972571</td>\n",
       "      <td>0.142857</td>\n",
       "    </tr>\n",
       "    <tr>\n",
       "      <th>4236</th>\n",
       "      <td>tt0772157</td>\n",
       "      <td>0.142857</td>\n",
       "    </tr>\n",
       "    <tr>\n",
       "      <th>9367</th>\n",
       "      <td>tt1606389</td>\n",
       "      <td>0.142857</td>\n",
       "    </tr>\n",
       "  </tbody>\n",
       "</table>\n",
       "</div>"
      ],
      "text/plain": [
       "           movie   jaccard\n",
       "9244   tt1580346  0.250000\n",
       "10165  tt1798684  0.142857\n",
       "10704  tt1972571  0.142857\n",
       "4236   tt0772157  0.142857\n",
       "9367   tt1606389  0.142857"
      ]
     },
     "execution_count": 125,
     "metadata": {},
     "output_type": "execute_result"
    }
   ],
   "source": [
    "similarity_df.sort_values(by=\"jaccard\", ascending=False).head()"
   ]
  },
  {
   "cell_type": "code",
   "execution_count": 126,
   "id": "feb58259",
   "metadata": {},
   "outputs": [],
   "source": [
    "# TODO: count the genres of the top k movies, printing out the most common\n",
    "#. genres as the predicted genre for the target movie"
   ]
  },
  {
   "cell_type": "code",
   "execution_count": 127,
   "metadata": {},
   "outputs": [
    {
     "name": "stdout",
     "output_type": "stream",
     "text": [
      "Predicted genres: Drama Action Crime \n"
     ]
    }
   ],
   "source": [
    "top_k = similarity_df.sort_values('jaccard', ascending=False).head(k_nn)\n",
    "\n",
    "genre_counts = {}\n",
    "for i in range(len(top_k)):\n",
    "    movie_id = top_k.iloc[i]['movie']\n",
    "    movie = movie_actor_map[movie_id]\n",
    "    # print(movie)\n",
    "    for genre in movie['genres']:\n",
    "        if genre not in genre_counts:\n",
    "            genre_counts[genre] = 0\n",
    "        genre_counts[genre] += 1\n",
    "        \n",
    "sorted_genres = sorted(genre_counts.items(), key=lambda x: x[1], reverse=True)\n",
    "\n",
    "print(\"Predicted genres:\", end=' ') \n",
    "for i in range(min(3, len(sorted_genres))):\n",
    "    print(sorted_genres[i][0], end=' ')\n",
    "print()"
   ]
  },
  {
   "cell_type": "markdown",
   "metadata": {},
   "source": [
    "for k = 1:\n",
    "The Incredibles: Action Adventure Animation,\n",
    "Interstellar: Drama Mystery Thriller,\n",
    "The Notebook: Action Biography Documentary;\n",
    "\n",
    "for k =3:\n",
    "The Incredibles: Adventure Documentary Action,\n",
    "Interstellar: Drama Documentary Mystery,\n",
    "The Notebook: Action Crime Drama;\n",
    "\n",
    "for k = 5:\n",
    "The Incredibles: Documentary Adveture History,\n",
    "Interstellar: Documentary Drama Mystery,\n",
    "The Notebook: Drama Action Crime"
   ]
  },
  {
   "cell_type": "markdown",
   "metadata": {},
   "source": [
    "As k increases, the genre predictions become more broad and include additional related genres, but core genres remain inconsistent. Higher k is good for diverse genres, and lower k is better for focused genres"
   ]
  },
  {
   "cell_type": "markdown",
   "id": "a320b769",
   "metadata": {},
   "source": [
    "## Use the top-k similar movies to infer rating"
   ]
  },
  {
   "cell_type": "code",
   "execution_count": 17,
   "id": "f20c71a4",
   "metadata": {},
   "outputs": [],
   "source": [
    "# TODO: Take the average rating from these top-k movies"
   ]
  },
  {
   "cell_type": "code",
   "execution_count": null,
   "id": "a99b4bce",
   "metadata": {},
   "outputs": [],
   "source": []
  }
 ],
 "metadata": {
  "kernelspec": {
   "display_name": "Python 3 (ipykernel)",
   "language": "python",
   "name": "python3"
  },
  "language_info": {
   "codemirror_mode": {
    "name": "ipython",
    "version": 3
   },
   "file_extension": ".py",
   "mimetype": "text/x-python",
   "name": "python",
   "nbconvert_exporter": "python",
   "pygments_lexer": "ipython3",
   "version": "3.12.0"
  }
 },
 "nbformat": 4,
 "nbformat_minor": 5
}
