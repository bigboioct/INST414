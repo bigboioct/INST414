{
 "cells": [
  {
   "cell_type": "code",
   "execution_count": 1,
   "metadata": {},
   "outputs": [],
   "source": [
    "import requests, spotipy, scipy.spatial.distance, pandas as pd, numpy as np\n",
    "from spotipy.oauth2 import SpotifyClientCredentials\n",
    "from sklearn.metrics.pairwise import cosine_similarity\n",
    "from scipy.sparse import lil_matrix \n",
    "from sklearn.metrics import DistanceMetric\n",
    "from sklearn.metrics.pairwise import cosine_distances"
   ]
  },
  {
   "cell_type": "code",
   "execution_count": null,
   "metadata": {},
   "outputs": [],
   "source": [
    "# Authentication credentials\n",
    "client_id = '67dd441a7f8249ecb919eb72ea11f460' \n",
    "client_secret = '3a521e0f708f44fe8625f92cfeaef485'\n",
    "market = 'US'\n",
    "\n",
    "sp = spotipy.Spotify(auth_manager=SpotifyClientCredentials(client_id=client_id, client_secret=client_secret))\n",
    "\n",
    "seed_tracks = [\"7iQXYTyuG13aoeHxGG28Nh\"] # PERRO NEGRO\n",
    "seed_genres = [\"latin\"]\n",
    "seed_artists = [\n",
    "    \"4q3ewBCX7sLwd24euuV69X\", # bad bunny\n",
    "    ] \n",
    "\n",
    "rec_map = []\n",
    "\n",
    "rec_map = sp.recommendations(seed_artists=seed_artists,seed_genres=seed_genres,seed_tracks=seed_tracks,limit=50)"
   ]
  },
  {
   "cell_type": "code",
   "execution_count": 4,
   "metadata": {},
   "outputs": [
    {
     "name": "stdout",
     "output_type": "stream",
     "text": [
      "{'3GaGWoU1KfVqgl7vnRHP55': {'artist_id': '5TYxZTjIPqKM8K8NuP9woO', 'track_id': '3GaGWoU1KfVqgl7vnRHP55', 'track_name': 'Demasiadas Mujeres'}, '4sDpxaulErbJ9NBaJDC7cJ': {'artist_id': '52iwsT98xCoGgiGntTiR7K', 'track_id': '4sDpxaulErbJ9NBaJDC7cJ', 'track_name': 'Buenas'}, '7aJP1XcWcSU9w0eqSvaeZR': {'artist_id': '7eLcDZDYHXZCebtQmVFL25', 'track_id': '7aJP1XcWcSU9w0eqSvaeZR', 'track_name': 'Lo Malo - Operación Triunfo 2017'}, '7q3NthaBqFI6s0WnAlnIvq': {'artist_id': '1TtXnWcUs0FCkaZDPGYHdf', 'track_id': '7q3NthaBqFI6s0WnAlnIvq', 'track_name': 'Velitas'}, '5ubqSAc9LxUS2CsMHcA4kF': {'artist_id': '6IE6z7DcZIT4Ml3Fh5Ivch', 'track_id': '5ubqSAc9LxUS2CsMHcA4kF', 'track_name': 'Como La Flor'}, '1eG68fWLXO7IphzE4GOeJf': {'artist_id': '1lgtR3WlcFxEy6yPoOh0J2', 'track_id': '1eG68fWLXO7IphzE4GOeJf', 'track_name': 'Big Booty'}, '72O5JOfMVbbJVYD9DOCWMi': {'artist_id': '07YUOmWljBTXwIseAUd9TW', 'track_id': '72O5JOfMVbbJVYD9DOCWMi', 'track_name': 'Energía Bacana'}, '332fAqelC3Uik91QPxPcB8': {'artist_id': '2UZIAOlrnyZmyzt1nuXr9y', 'track_id': '332fAqelC3Uik91QPxPcB8', 'track_name': 'Enamórate'}, '6BXPd16odD426XZKhOhvxW': {'artist_id': '4i5rDrP2IqCdMgde0vIpyB', 'track_id': '6BXPd16odD426XZKhOhvxW', 'track_name': 'Tu Loco Loco Y Yo Tranquilo'}, '0ioMNn20aZVnttrXicPgBL': {'artist_id': '2MRBDr0crHWE5JwPceFncq', 'track_id': '0ioMNn20aZVnttrXicPgBL', 'track_name': 'Se Me Olvidó Otra Vez'}, '3vKYvbzB7801a5qd47pxkm': {'artist_id': '0Q8NcsJwoCbZOHHW63su5S', 'track_id': '3vKYvbzB7801a5qd47pxkm', 'track_name': 'APA'}, '7ucEkWU0SVy0XFdfXESgfY': {'artist_id': '4q3ewBCX7sLwd24euuV69X', 'track_id': '7ucEkWU0SVy0XFdfXESgfY', 'track_name': 'LOS PITS'}, '3iDPALl8BoUbuXZgy6EOWY': {'artist_id': '7lCRuW6BSXGAsxuQV9lR0i', 'track_id': '3iDPALl8BoUbuXZgy6EOWY', 'track_name': 'Sexto Sentido (feat. Bad Bunny)'}, '100Tm6z29RfHTdUQ6NIs0s': {'artist_id': '2QWIScpFDNxmS6ZEMIUvgm', 'track_id': '100Tm6z29RfHTdUQ6NIs0s', 'track_name': 'Me Voy'}, '0B8yu7yLe1UsXv6gewHRv2': {'artist_id': '1bAftSH8umNcGZ0uyV7LMg', 'track_id': '0B8yu7yLe1UsXv6gewHRv2', 'track_name': 'Pintao'}, '1AOPHC5whvr8K359BZu4kp': {'artist_id': '5XJDexmWFLWOkjOEjOVX3e', 'track_id': '1AOPHC5whvr8K359BZu4kp', 'track_name': 'Triste Verano'}, '6Vn1vje8yMw2OY6IOk9dkH': {'artist_id': '790FomKkXshlbRYZFtlgla', 'track_id': '6Vn1vje8yMw2OY6IOk9dkH', 'track_name': 'GATÚBELA'}, '7Jy41XI7wVBnXvOifdoaxG': {'artist_id': '2FS22haX3FYbyOsUAkuYqZ', 'track_id': '7Jy41XI7wVBnXvOifdoaxG', 'track_name': 'Yo No Me Sentaría en Tu Mesa - Remasterizado 2008'}, '0ulsRBiciReng91DhfVT9D': {'artist_id': '1i8SpTcr7yvPOmcqrbnVXY', 'track_id': '0ulsRBiciReng91DhfVT9D', 'track_name': 'Bebé'}, '69Ej1xrGjOcHvIMtMKxK0G': {'artist_id': '33ScadVnbm2X8kkUqOkC6Z', 'track_id': '69Ej1xrGjOcHvIMtMKxK0G', 'track_name': 'Dile'}, '1b62AO1IzcVr5SOgoguc9o': {'artist_id': '5XJDexmWFLWOkjOEjOVX3e', 'track_id': '1b62AO1IzcVr5SOgoguc9o', 'track_name': 'Sin Frenos'}, '5CVMsPYtSJ3l7UxYiI2lt7': {'artist_id': '0Q8NcsJwoCbZOHHW63su5S', 'track_id': '5CVMsPYtSJ3l7UxYiI2lt7', 'track_name': 'ESCALOFRÍOS'}, '7yIIeKUxTpn36X6CFJhgEi': {'artist_id': '4yjm4SvYqC5FFuLbB6TyHr', 'track_id': '7yIIeKUxTpn36X6CFJhgEi', 'track_name': 'Reggaeton Champagne'}, '13C7afV2SBHsR583SEktoP': {'artist_id': '1lQO7ePBTp5yOfVK9hicoJ', 'track_id': '13C7afV2SBHsR583SEktoP', 'track_name': 'Como No Queriendo'}, '1iEwyiSLAunPR6uouANE0O': {'artist_id': '1r4hJ1h58CWwUQe3MxPuau', 'track_id': '1iEwyiSLAunPR6uouANE0O', 'track_name': 'El Perdedor'}, '0zY4kXv0OOKLFh33DH2cSv': {'artist_id': '6tOv5UYDorjmsernjtaHO1', 'track_id': '0zY4kXv0OOKLFh33DH2cSv', 'track_name': 'Recuerdos'}, '3yzHIAzk3zVE1WgspS8W21': {'artist_id': '2Cy7KBSkqu7otJfuMTWT7Y', 'track_id': '3yzHIAzk3zVE1WgspS8W21', 'track_name': 'Vivir Así Es Morir de Amor'}, '7zSYoPdSQmQ8PYckovk2Qj': {'artist_id': '3RB3lthg9wuE5mFpdNfcr6', 'track_id': '7zSYoPdSQmQ8PYckovk2Qj', 'track_name': 'Demonia Baila'}, '6ipp8Dhs33KinlF4BStgca': {'artist_id': '3OcvS8PzSGYMBvLdzY6g3e', 'track_id': '6ipp8Dhs33KinlF4BStgca', 'track_name': 'Justicia'}, '655JkvIwu2rDCaD1hPf04g': {'artist_id': '07YUOmWljBTXwIseAUd9TW', 'track_id': '655JkvIwu2rDCaD1hPf04g', 'track_name': 'Pareja Del Año'}, '33QDwXW1O0hAGDdKRqpqjB': {'artist_id': '4rUyBlggM5tZUH5QZn9ZuO', 'track_id': '33QDwXW1O0hAGDdKRqpqjB', 'track_name': 'Canción Del Elegido'}, '6MvqgVj98rzMGuxdpIyzeh': {'artist_id': '6nVcHLIgY5pE2YCl8ubca1', 'track_id': '6MvqgVj98rzMGuxdpIyzeh', 'track_name': 'Imaginaste'}, '5NtIprYDaflAuu3Pko0rjR': {'artist_id': '2x7PC78TmgqpEIjaGAZ0Oz', 'track_id': '5NtIprYDaflAuu3Pko0rjR', 'track_name': 'DANCE CRIP'}, '7zuwr7YqqpveNtxlKe1vn6': {'artist_id': '1JbemQ1fPt2YmSLjAFhPBv', 'track_id': '7zuwr7YqqpveNtxlKe1vn6', 'track_name': 'Y Tú Te Vas'}, '29eXmdhLZqDUNB8y62rYIZ': {'artist_id': '1TA5sGRlKUJXBN4ZyJuDIX', 'track_id': '29eXmdhLZqDUNB8y62rYIZ', 'track_name': 'EL RELOJ (con Maluma)'}, '1JmHWmgrE2YbkyX8PTd0Ko': {'artist_id': '4stSxe6AbpXw3x7nRDsYVX', 'track_id': '1JmHWmgrE2YbkyX8PTd0Ko', 'track_name': 'Loco Enamorado'}, '3StCElHKaN6ASLf7Pymdum': {'artist_id': '5RK6c1tyaKpwcDpbgCGNgj', 'track_id': '3StCElHKaN6ASLf7Pymdum', 'track_name': 'Contigo (feat. Natalia Lafourcade)'}, '7soFqD1nuVVsc5MOvo13Ad': {'artist_id': '6k8mwkKJKKjBILo7ypBspl', 'track_id': '7soFqD1nuVVsc5MOvo13Ad', 'track_name': 'Ahora Lloras Tú (feat. CNCO)'}, '1ei3g2hMYh1VKvik9FoUQR': {'artist_id': '0eHQ9o50hj6ZDNBt6Ys1sD', 'track_id': '1ei3g2hMYh1VKvik9FoUQR', 'track_name': 'Sólo Mía (feat. Maluma)'}, '0uAGAiCz5dc42hLtxZDCJ3': {'artist_id': '1zOF3cheouD6C99jxSmBeS', 'track_id': '0uAGAiCz5dc42hLtxZDCJ3', 'track_name': 'Yo Me Quedo Aquí Contigo'}, '4waqcUQWdj0yH26STWl2Rq': {'artist_id': '4U7lXyKdSf1JbM1aXvsodC', 'track_id': '4waqcUQWdj0yH26STWl2Rq', 'track_name': 'Rosas'}, '6i1g5ZRmJZAkDwBaUZ3f2i': {'artist_id': '4axKuDPr6WKcDCyh8vueTY', 'track_id': '6i1g5ZRmJZAkDwBaUZ3f2i', 'track_name': 'Caile'}, '4CbANooTL2aTHzJZqQ0Uvk': {'artist_id': '2R21vXR83lH98kGeO99Y66', 'track_id': '4CbANooTL2aTHzJZqQ0Uvk', 'track_name': 'Hipócrita'}, '4Kh3E34bexvFQlJ0xwiggQ': {'artist_id': '6gwYud4hJkX6ApdxYoCi7b', 'track_id': '4Kh3E34bexvFQlJ0xwiggQ', 'track_name': 'Qué Ironía'}, '71nkNlFUY4d9mBvTAyV9ig': {'artist_id': '4m6ubhNsdwF4psNf3R8kwR', 'track_id': '71nkNlFUY4d9mBvTAyV9ig', 'track_name': 'Dónde Estás'}, '6mOZfn6CVXsX1Tt0l3thm3': {'artist_id': '3XkJyJgJDxnjdQgH0zfT8K', 'track_id': '6mOZfn6CVXsX1Tt0l3thm3', 'track_name': 'Sin documentos'}, '2ItA7kOg5NH6AygzU30sEv': {'artist_id': '3LKXWvXFWrkwUzJWxzwVpW', 'track_id': '2ItA7kOg5NH6AygzU30sEv', 'track_name': 'Solos (feat. Plan B)'}, '2LWM5Ft0TdX24GeSq1u6PV': {'artist_id': '2LRoIwlKmHjgvigdNGBHNo', 'track_id': '2LWM5Ft0TdX24GeSq1u6PV', 'track_name': 'FERXXO 30'}, '5nmLj87o23HJrI7GgqXXUw': {'artist_id': '4N5fp4zhTsVITZTVfsXpc2', 'track_id': '5nmLj87o23HJrI7GgqXXUw', 'track_name': 'Tengo Ganas'}, '5qN1G8fSHq4Sv5FRoOkNGu': {'artist_id': '3vQ0GE3mI0dAaxIMYe5g7z', 'track_id': '5qN1G8fSHq4Sv5FRoOkNGu', 'track_name': 'Por Eso Vine'}, '7iQXYTyuG13aoeHxGG28Nh': {'artist_id': '4q3ewBCX7sLwd24euuV69X', 'track_id': '7iQXYTyuG13aoeHxGG28Nh', 'track_name': 'PERRO NEGRO'}}\n"
     ]
    }
   ],
   "source": [
    "tracks_data = {}\n",
    "\n",
    "for track in rec_map['tracks']:\n",
    "        # print(track['id'])\n",
    "        \n",
    "        track_id = track['id']\n",
    "        track_name = track['name']\n",
    "        artist_id = track['artists'][0]['id']\n",
    "        track_data = {\n",
    "            'artist_id': artist_id,\n",
    "            'track_id': track_id,\n",
    "            'track_name': track_name\n",
    "        }\n",
    "        \n",
    "        tracks_data[track_id] = track_data\n",
    "\n",
    "# appending PERRO NEGRO IDs to dict\n",
    "tracks_data['7iQXYTyuG13aoeHxGG28Nh'] = {\n",
    "    'artist_id' : '4q3ewBCX7sLwd24euuV69X',\n",
    "    'track_id' : '7iQXYTyuG13aoeHxGG28Nh',\n",
    "    'track_name' : 'PERRO NEGRO'\n",
    "}\n",
    "\n",
    "print(tracks_data)\n",
    "\n",
    "# recs_df = pd.DataFrame(tracks_data, columns=['artist_id', 'track_id', 'track_name'])\n"
   ]
  },
  {
   "cell_type": "code",
   "execution_count": 5,
   "metadata": {},
   "outputs": [
    {
     "name": "stdout",
     "output_type": "stream",
     "text": [
      "{'3GaGWoU1KfVqgl7vnRHP55': {'danceability': 0.658, 'energy': 0.453, 'tempo': 126.043, 'speechines': 0.39, 'valence': 0.358}, '4sDpxaulErbJ9NBaJDC7cJ': {'danceability': 0.625, 'energy': 0.755, 'tempo': 87.948, 'speechines': 0.0724, 'valence': 0.429}, '7aJP1XcWcSU9w0eqSvaeZR': {'danceability': 0.766, 'energy': 0.737, 'tempo': 95.011, 'speechines': 0.0634, 'valence': 0.964}, '7q3NthaBqFI6s0WnAlnIvq': {'danceability': 0.819, 'energy': 0.596, 'tempo': 165.951, 'speechines': 0.318, 'valence': 0.622}, '5ubqSAc9LxUS2CsMHcA4kF': {'danceability': 0.632, 'energy': 0.75, 'tempo': 91.17, 'speechines': 0.0358, 'valence': 0.87}, '1eG68fWLXO7IphzE4GOeJf': {'danceability': 0.907, 'energy': 0.551, 'tempo': 152.031, 'speechines': 0.237, 'valence': 0.644}, '72O5JOfMVbbJVYD9DOCWMi': {'danceability': 0.756, 'energy': 0.739, 'tempo': 92.061, 'speechines': 0.0508, 'valence': 0.627}, '332fAqelC3Uik91QPxPcB8': {'danceability': 0.576, 'energy': 0.754, 'tempo': 94.737, 'speechines': 0.0497, 'valence': 0.663}, '6BXPd16odD426XZKhOhvxW': {'danceability': 0.683, 'energy': 0.516, 'tempo': 89.868, 'speechines': 0.0332, 'valence': 0.962}, '0ioMNn20aZVnttrXicPgBL': {'danceability': 0.523, 'energy': 0.21, 'tempo': 82.538, 'speechines': 0.0414, 'valence': 0.349}, '3vKYvbzB7801a5qd47pxkm': {'danceability': 0.757, 'energy': 0.738, 'tempo': 120.091, 'speechines': 0.22, 'valence': 0.753}, '7ucEkWU0SVy0XFdfXESgfY': {'danceability': 0.751, 'energy': 0.669, 'tempo': 93.705, 'speechines': 0.445, 'valence': 0.69}, '3iDPALl8BoUbuXZgy6EOWY': {'danceability': 0.714, 'energy': 0.624, 'tempo': 140.984, 'speechines': 0.0651, 'valence': 0.5}, '100Tm6z29RfHTdUQ6NIs0s': {'danceability': 0.575, 'energy': 0.679, 'tempo': 107.878, 'speechines': 0.0278, 'valence': 0.601}, '0B8yu7yLe1UsXv6gewHRv2': {'danceability': 0.735, 'energy': 0.797, 'tempo': 105.765, 'speechines': 0.0638, 'valence': 0.471}, '1AOPHC5whvr8K359BZu4kp': {'danceability': 0.603, 'energy': 0.683, 'tempo': 171.873, 'speechines': 0.154, 'valence': 0.584}, '6Vn1vje8yMw2OY6IOk9dkH': {'danceability': 0.853, 'energy': 0.859, 'tempo': 95.131, 'speechines': 0.306, 'valence': 0.325}, '7Jy41XI7wVBnXvOifdoaxG': {'danceability': 0.635, 'energy': 0.888, 'tempo': 143.748, 'speechines': 0.048, 'valence': 0.881}, '0ulsRBiciReng91DhfVT9D': {'danceability': 0.72, 'energy': 0.82, 'tempo': 169.758, 'speechines': 0.113, 'valence': 0.533}, '69Ej1xrGjOcHvIMtMKxK0G': {'danceability': 0.817, 'energy': 0.714, 'tempo': 94.001, 'speechines': 0.141, 'valence': 0.714}, '1b62AO1IzcVr5SOgoguc9o': {'danceability': 0.657, 'energy': 0.702, 'tempo': 145.022, 'speechines': 0.0482, 'valence': 0.75}, '5CVMsPYtSJ3l7UxYiI2lt7': {'danceability': 0.536, 'energy': 0.599, 'tempo': 93.625, 'speechines': 0.146, 'valence': 0.558}, '7yIIeKUxTpn36X6CFJhgEi': {'danceability': 0.795, 'energy': 0.678, 'tempo': 101.032, 'speechines': 0.0586, 'valence': 0.788}, '13C7afV2SBHsR583SEktoP': {'danceability': 0.608, 'energy': 0.623, 'tempo': 156.008, 'speechines': 0.0298, 'valence': 0.902}, '1iEwyiSLAunPR6uouANE0O': {'danceability': 0.702, 'energy': 0.73, 'tempo': 173.967, 'speechines': 0.099, 'valence': 0.879}, '0zY4kXv0OOKLFh33DH2cSv': {'danceability': 0.668, 'energy': 0.683, 'tempo': 78.982, 'speechines': 0.0643, 'valence': 0.471}, '3yzHIAzk3zVE1WgspS8W21': {'danceability': 0.527, 'energy': 0.689, 'tempo': 102.24, 'speechines': 0.0681, 'valence': 0.691}, '7zSYoPdSQmQ8PYckovk2Qj': {'danceability': 0.675, 'energy': 0.665, 'tempo': 129.739, 'speechines': 0.171, 'valence': 0.405}, '6ipp8Dhs33KinlF4BStgca': {'danceability': 0.809, 'energy': 0.899, 'tempo': 95.016, 'speechines': 0.103, 'valence': 0.733}, '655JkvIwu2rDCaD1hPf04g': {'danceability': 0.715, 'energy': 0.611, 'tempo': 79.971, 'speechines': 0.0519, 'valence': 0.776}, '33QDwXW1O0hAGDdKRqpqjB': {'danceability': 0.562, 'energy': 0.213, 'tempo': 152.197, 'speechines': 0.0841, 'valence': 0.48}, '6MvqgVj98rzMGuxdpIyzeh': {'danceability': 0.778, 'energy': 0.658, 'tempo': 179.966, 'speechines': 0.237, 'valence': 0.578}, '5NtIprYDaflAuu3Pko0rjR': {'danceability': 0.857, 'energy': 0.766, 'tempo': 106.024, 'speechines': 0.0978, 'valence': 0.864}, '7zuwr7YqqpveNtxlKe1vn6': {'danceability': 0.609, 'energy': 0.607, 'tempo': 139.927, 'speechines': 0.0297, 'valence': 0.525}, '29eXmdhLZqDUNB8y62rYIZ': {'danceability': 0.763, 'energy': 0.575, 'tempo': 92.001, 'speechines': 0.0708, 'valence': 0.601}, '1JmHWmgrE2YbkyX8PTd0Ko': {'danceability': 0.674, 'energy': 0.645, 'tempo': 155.961, 'speechines': 0.0303, 'valence': 0.615}, '3StCElHKaN6ASLf7Pymdum': {'danceability': 0.727, 'energy': 0.628, 'tempo': 118.007, 'speechines': 0.0269, 'valence': 0.686}, '7soFqD1nuVVsc5MOvo13Ad': {'danceability': 0.718, 'energy': 0.9, 'tempo': 115.982, 'speechines': 0.0549, 'valence': 0.766}, '1ei3g2hMYh1VKvik9FoUQR': {'danceability': 0.757, 'energy': 0.733, 'tempo': 174.05, 'speechines': 0.2, 'valence': 0.864}, '0uAGAiCz5dc42hLtxZDCJ3': {'danceability': 0.502, 'energy': 0.641, 'tempo': 167.977, 'speechines': 0.0272, 'valence': 0.562}, '4waqcUQWdj0yH26STWl2Rq': {'danceability': 0.783, 'energy': 0.685, 'tempo': 107.01, 'speechines': 0.0271, 'valence': 0.54}, '6i1g5ZRmJZAkDwBaUZ3f2i': {'danceability': 0.704, 'energy': 0.756, 'tempo': 121.737, 'speechines': 0.448, 'valence': 0.461}, '4CbANooTL2aTHzJZqQ0Uvk': {'danceability': 0.79, 'energy': 0.858, 'tempo': 92.05, 'speechines': 0.0471, 'valence': 0.79}, '4Kh3E34bexvFQlJ0xwiggQ': {'danceability': 0.638, 'energy': 0.275, 'tempo': 91.109, 'speechines': 0.0469, 'valence': 0.712}, '71nkNlFUY4d9mBvTAyV9ig': {'danceability': 0.706, 'energy': 0.623, 'tempo': 90.007, 'speechines': 0.105, 'valence': 0.61}, '6mOZfn6CVXsX1Tt0l3thm3': {'danceability': 0.387, 'energy': 0.972, 'tempo': 192.392, 'speechines': 0.101, 'valence': 0.839}, '2ItA7kOg5NH6AygzU30sEv': {'danceability': 0.714, 'energy': 0.714, 'tempo': 83.997, 'speechines': 0.0732, 'valence': 0.951}, '2LWM5Ft0TdX24GeSq1u6PV': {'danceability': 0.765, 'energy': 0.637, 'tempo': 89.968, 'speechines': 0.0807, 'valence': 0.508}, '5nmLj87o23HJrI7GgqXXUw': {'danceability': 0.591, 'energy': 0.862, 'tempo': 94.616, 'speechines': 0.0362, 'valence': 0.896}, '5qN1G8fSHq4Sv5FRoOkNGu': {'danceability': 0.76, 'energy': 0.646, 'tempo': 188.009, 'speechines': 0.433, 'valence': 0.625}, '7iQXYTyuG13aoeHxGG28Nh': {'danceability': 0.911, 'energy': 0.778, 'tempo': 96.057, 'speechines': 0.262, 'valence': 0.345}}\n"
     ]
    }
   ],
   "source": [
    "audio_features = {}\n",
    "\n",
    "for idx in tracks_data:\n",
    "        \n",
    "    audio_req = sp.audio_features(idx)[0]\n",
    "\n",
    "    track_id = audio_req['id']\n",
    "    audio = audio_req\n",
    "    \n",
    "    audio_attributes = {\n",
    "        'danceability' : audio['danceability'],\n",
    "        'energy' : audio['energy'],\n",
    "        'tempo' : audio['tempo'],\n",
    "        'speechines' : audio['speechiness'],\n",
    "        'valence' : audio['valence']\n",
    "    }\n",
    "    audio_features[track_id] = audio_attributes\n",
    "\n",
    "print(audio_features)"
   ]
  },
  {
   "cell_type": "code",
   "execution_count": 7,
   "metadata": {},
   "outputs": [
    {
     "data": {
      "text/plain": [
       "{'danceability': 0.608,\n",
       " 'energy': 0.623,\n",
       " 'tempo': 156.008,\n",
       " 'speechines': 0.0298,\n",
       " 'valence': 0.902}"
      ]
     },
     "execution_count": 7,
     "metadata": {},
     "output_type": "execute_result"
    }
   ],
   "source": [
    "audio_features['13C7afV2SBHsR583SEktoP'] #Como No Queriendo"
   ]
  },
  {
   "cell_type": "code",
   "execution_count": 13,
   "metadata": {},
   "outputs": [
    {
     "data": {
      "text/plain": [
       "{'artist_id': '790FomKkXshlbRYZFtlgla',\n",
       " 'track_id': '6Vn1vje8yMw2OY6IOk9dkH',\n",
       " 'track_name': 'GATÚBELA'}"
      ]
     },
     "execution_count": 13,
     "metadata": {},
     "output_type": "execute_result"
    }
   ],
   "source": [
    "tracks_data['6Vn1vje8yMw2OY6IOk9dkH']"
   ]
  },
  {
   "cell_type": "code",
   "execution_count": 9,
   "metadata": {},
   "outputs": [
    {
     "data": {
      "text/html": [
       "<div>\n",
       "<style scoped>\n",
       "    .dataframe tbody tr th:only-of-type {\n",
       "        vertical-align: middle;\n",
       "    }\n",
       "\n",
       "    .dataframe tbody tr th {\n",
       "        vertical-align: top;\n",
       "    }\n",
       "\n",
       "    .dataframe thead th {\n",
       "        text-align: right;\n",
       "    }\n",
       "</style>\n",
       "<table border=\"1\" class=\"dataframe\">\n",
       "  <thead>\n",
       "    <tr style=\"text-align: right;\">\n",
       "      <th></th>\n",
       "      <th>danceability</th>\n",
       "      <th>energy</th>\n",
       "      <th>tempo</th>\n",
       "      <th>speechines</th>\n",
       "      <th>valence</th>\n",
       "    </tr>\n",
       "  </thead>\n",
       "  <tbody>\n",
       "    <tr>\n",
       "      <th>3GaGWoU1KfVqgl7vnRHP55</th>\n",
       "      <td>0.658</td>\n",
       "      <td>0.453</td>\n",
       "      <td>126.043</td>\n",
       "      <td>0.3900</td>\n",
       "      <td>0.358</td>\n",
       "    </tr>\n",
       "    <tr>\n",
       "      <th>4sDpxaulErbJ9NBaJDC7cJ</th>\n",
       "      <td>0.625</td>\n",
       "      <td>0.755</td>\n",
       "      <td>87.948</td>\n",
       "      <td>0.0724</td>\n",
       "      <td>0.429</td>\n",
       "    </tr>\n",
       "    <tr>\n",
       "      <th>7aJP1XcWcSU9w0eqSvaeZR</th>\n",
       "      <td>0.766</td>\n",
       "      <td>0.737</td>\n",
       "      <td>95.011</td>\n",
       "      <td>0.0634</td>\n",
       "      <td>0.964</td>\n",
       "    </tr>\n",
       "    <tr>\n",
       "      <th>7q3NthaBqFI6s0WnAlnIvq</th>\n",
       "      <td>0.819</td>\n",
       "      <td>0.596</td>\n",
       "      <td>165.951</td>\n",
       "      <td>0.3180</td>\n",
       "      <td>0.622</td>\n",
       "    </tr>\n",
       "    <tr>\n",
       "      <th>5ubqSAc9LxUS2CsMHcA4kF</th>\n",
       "      <td>0.632</td>\n",
       "      <td>0.750</td>\n",
       "      <td>91.170</td>\n",
       "      <td>0.0358</td>\n",
       "      <td>0.870</td>\n",
       "    </tr>\n",
       "  </tbody>\n",
       "</table>\n",
       "</div>"
      ],
      "text/plain": [
       "                        danceability  energy    tempo  speechines  valence\n",
       "3GaGWoU1KfVqgl7vnRHP55         0.658   0.453  126.043      0.3900    0.358\n",
       "4sDpxaulErbJ9NBaJDC7cJ         0.625   0.755   87.948      0.0724    0.429\n",
       "7aJP1XcWcSU9w0eqSvaeZR         0.766   0.737   95.011      0.0634    0.964\n",
       "7q3NthaBqFI6s0WnAlnIvq         0.819   0.596  165.951      0.3180    0.622\n",
       "5ubqSAc9LxUS2CsMHcA4kF         0.632   0.750   91.170      0.0358    0.870"
      ]
     },
     "execution_count": 9,
     "metadata": {},
     "output_type": "execute_result"
    }
   ],
   "source": [
    "index = audio_features.keys()\n",
    "rows = [audio_features[k] for k in index]\n",
    "\n",
    "df = pd.DataFrame(rows, index=index)\n",
    "df.head()"
   ]
  },
  {
   "cell_type": "code",
   "execution_count": 10,
   "metadata": {},
   "outputs": [],
   "source": [
    "# using PERRO NEGRO as target track_id for finding similarity between original request and recommended songs\n",
    "target_track_id = '7iQXYTyuG13aoeHxGG28Nh'"
   ]
  },
  {
   "cell_type": "code",
   "execution_count": 11,
   "metadata": {},
   "outputs": [],
   "source": [
    "target_track_features = df.loc[target_track_id]\n",
    "\n",
    "distances = scipy.spatial.distance.cdist(df, [target_track_features], metric=\"cosine\")[:,0]\n",
    "\n",
    "query_distances = list(zip(df.index, distances))"
   ]
  },
  {
   "cell_type": "code",
   "execution_count": 16,
   "metadata": {},
   "outputs": [
    {
     "name": "stdout",
     "output_type": "stream",
     "text": [
      "6Vn1vje8yMw2OY6IOk9dkH GATÚBELA {'danceability': 0.853, 'energy': 0.859, 'tempo': 95.131, 'speechines': 0.306, 'valence': 0.325} 7.013821483603522e-07\n",
      "2LWM5Ft0TdX24GeSq1u6PV FERXXO 30 {'danceability': 0.765, 'energy': 0.637, 'tempo': 89.968, 'speechines': 0.0807, 'valence': 0.508} 4.7861594054676715e-06\n",
      "0zY4kXv0OOKLFh33DH2cSv Recuerdos {'danceability': 0.668, 'energy': 0.683, 'tempo': 78.982, 'speechines': 0.0643, 'valence': 0.471} 5.319228872036064e-06\n",
      "4sDpxaulErbJ9NBaJDC7cJ Buenas {'danceability': 0.625, 'energy': 0.755, 'tempo': 87.948, 'speechines': 0.0724, 'valence': 0.429} 5.583428063782314e-06\n",
      "0B8yu7yLe1UsXv6gewHRv2 Pintao {'danceability': 0.735, 'energy': 0.797, 'tempo': 105.765, 'speechines': 0.0638, 'valence': 0.471} 5.9973550498026995e-06\n",
      "4waqcUQWdj0yH26STWl2Rq Rosas {'danceability': 0.783, 'energy': 0.685, 'tempo': 107.01, 'speechines': 0.0271, 'valence': 0.54} 7.906940536872575e-06\n",
      "71nkNlFUY4d9mBvTAyV9ig Dónde Estás {'danceability': 0.706, 'energy': 0.623, 'tempo': 90.007, 'speechines': 0.105, 'valence': 0.61} 8.329465010281645e-06\n",
      "72O5JOfMVbbJVYD9DOCWMi Energía Bacana {'danceability': 0.756, 'energy': 0.739, 'tempo': 92.061, 'speechines': 0.0508, 'valence': 0.627} 8.358286059273468e-06\n",
      "29eXmdhLZqDUNB8y62rYIZ EL RELOJ (con Maluma) {'danceability': 0.763, 'energy': 0.575, 'tempo': 92.001, 'speechines': 0.0708, 'valence': 0.601} 8.658785525694768e-06\n",
      "6i1g5ZRmJZAkDwBaUZ3f2i Caile {'danceability': 0.704, 'energy': 0.756, 'tempo': 121.737, 'speechines': 0.448, 'valence': 0.461} 9.104034463525146e-06\n"
     ]
    }
   ],
   "source": [
    "#Printing the top ten most similar actors to our target\n",
    "for similar_track_id, similar_genre_score in sorted(query_distances, key=lambda x: x[1], reverse=False)[1:11]:\n",
    "    similar_actor = audio_features[similar_track_id]\n",
    "    print(similar_track_id, tracks_data[similar_track_id]['track_name'],audio_features[similar_track_id], similar_genre_score)"
   ]
  }
 ],
 "metadata": {
  "kernelspec": {
   "display_name": "Python 3",
   "language": "python",
   "name": "python3"
  },
  "language_info": {
   "codemirror_mode": {
    "name": "ipython",
    "version": 3
   },
   "file_extension": ".py",
   "mimetype": "text/x-python",
   "name": "python",
   "nbconvert_exporter": "python",
   "pygments_lexer": "ipython3",
   "version": "3.12.0"
  }
 },
 "nbformat": 4,
 "nbformat_minor": 2
}
